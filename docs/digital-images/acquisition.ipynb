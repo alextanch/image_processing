{
 "cells": [
  {
   "cell_type": "markdown",
   "id": "77f703d7-381d-49cb-b868-9ba4187072e7",
   "metadata": {},
   "source": [
    "# Формирование изображения"
   ]
  },
  {
   "cell_type": "markdown",
   "id": "42606f74-86eb-4c5b-99e1-23a02d79b51b",
   "metadata": {},
   "source": [
    "## Зрение человека\n",
    "\n",
    "На {numref}`F:digital-images:eye` изображена схема человеческого глаза.\n",
    "\n",
    "```{figure} images/Schematic_diagram_of_the_human_eye.png\n",
    "---\n",
    "name: F:digital-images:eye\n",
    "width: 50%\n",
    "---\n",
    "Схема человеческого глаза.\n",
    "```\n",
    "\n",
    "Глаз в основном состоит из:\n",
    "\n",
    "* роговицы -- прозрачный слой, покрывающий поверхность глаза\n",
    "* хрусталика -- стекловидное тело, которое преломляет свет на сетчатку\n",
    "* сетчатка -- задняя часть глаза\n",
    " \n",
    "Свет от объекта отражается на сетчатке, когда глаз правильно сфокусирован.\n",
    "\n",
    "```{margin}\n",
    "[Видео о принципе работы зрения](https://www.youtube.com/watch?v=Mz0t0DYe2-4).\n",
    "```\n",
    "\n",
    "Сетчатка человеческого глаза содержит два вида рецепторов. Палочки -- обеспечивают общую картину поля зрения и повышают чувствительность к слабому уровню освещенности. Колбочки -- обеспечивают цветовое зрение. Существует три типа колбочек, которые чувствительны к короткой (S), средней (M) и длинной (L) длине волны видимого света (см. {numref}`F:digital-images:cone-responsivity`). В основном, они чувствительны к синему, зеленому и красному свету. Палочки и колбочки соединены нервами с мозгом, в  котором формируется образ.\n",
    "\n",
    "```{figure} images/Cone-fundamentals-with-srgb-spectrum.svg\n",
    "---\n",
    "name: F:digital-images:cone-responsivity\n",
    "---\n",
    "Чувствительность трех видов колбочек.\n",
    "```"
   ]
  },
  {
   "cell_type": "markdown",
   "id": "c719ede8-4a78-4bc6-bb83-ab6348cec18d",
   "metadata": {},
   "source": [
    "## Формирование изображения\n",
    "Как видно из {numref}`F:digital-images:spectr`, диапазон цветов, которые мы воспринимаем как видимый свет, составляет очень малую часть спектра электромагнитного излучения. На одном конце этого спектра находятся радиоволны, длина которых в миллиарды раз превышает длины волн видимого света, а на другом конце -- гамма-лучи, длина волны которых в миллионы раз меньше длины световых волн.\n",
    "\n",
    "```{figure} images/spectr.svg\n",
    "---\n",
    "width: 100%\n",
    "name: F:digital-images:spectr\n",
    "---\n",
    "Спектр электромагнитного излучения.\n",
    "```"
   ]
  },
  {
   "cell_type": "code",
   "execution_count": null,
   "id": "2583a25d-e072-4495-86fb-a0f7e5a74a2a",
   "metadata": {},
   "outputs": [],
   "source": []
  }
 ],
 "metadata": {
  "kernelspec": {
   "display_name": "Python 3 (ipykernel)",
   "language": "python",
   "name": "python3"
  },
  "language_info": {
   "codemirror_mode": {
    "name": "ipython",
    "version": 3
   },
   "file_extension": ".py",
   "mimetype": "text/x-python",
   "name": "python",
   "nbconvert_exporter": "python",
   "pygments_lexer": "ipython3",
   "version": "3.13.2"
  }
 },
 "nbformat": 4,
 "nbformat_minor": 5
}
