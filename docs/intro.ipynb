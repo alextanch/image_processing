{
 "cells": [
  {
   "cell_type": "markdown",
   "id": "06c4e08f-57fa-4c8a-9b0d-4c0f032b964e",
   "metadata": {},
   "source": [
    "# Введение\n",
    "## Содержание\n",
    "\n",
    "```{tableofcontents}\n",
    "```"
   ]
  },
  {
   "cell_type": "code",
   "execution_count": null,
   "id": "859605e0-32d2-4355-8c3f-2785a09e57ba",
   "metadata": {},
   "outputs": [],
   "source": []
  }
 ],
 "metadata": {
  "kernelspec": {
   "display_name": "Python . (XPython Raw)",
   "language": "python",
   "name": "xpython-raw"
  },
  "language_info": {
   "file_extension": ".py",
   "mimetype": "text/x-python",
   "name": "python",
   "version": "3.13.2"
  }
 },
 "nbformat": 4,
 "nbformat_minor": 5
}
